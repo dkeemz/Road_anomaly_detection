{
  "nbformat": 4,
  "nbformat_minor": 2,
  "metadata": {
    "colab": {
      "name": "Train YoloV3.ipynb",
      "provenance": [],
      "collapsed_sections": [],
      "toc_visible": true
    },
    "kernelspec": {
      "name": "python3",
      "display_name": "Python 3"
    },
    "accelerator": "GPU"
  },
  "cells": [
    {
      "cell_type": "markdown",
      "source": [
        "**Connect google drive**"
      ],
      "metadata": {
        "id": "wHBQcQzjD6HJ",
        "colab_type": "text"
      }
    },
    {
      "cell_type": "code",
      "execution_count": null,
      "source": [
        "# Check if using GPU is enabled\r\n",
        "!nvidia-smi"
      ],
      "outputs": [],
      "metadata": {
        "id": "bwp6NIrsZZFP",
        "colab_type": "code",
        "colab": {}
      }
    },
    {
      "cell_type": "code",
      "execution_count": null,
      "source": [
        "from google.colab import drive\r\n",
        "drive.mount('/content/gdrive')\r\n",
        "!ln -s /content/gdrive/My\\ Drive/ /mydrive\r\n",
        "!ls /mydrive"
      ],
      "outputs": [],
      "metadata": {
        "id": "9e9ZW3sqMEPO",
        "colab_type": "code",
        "colab": {}
      }
    },
    {
      "cell_type": "markdown",
      "source": [
        "**1) Clone the Darknet**\n",
        "\n"
      ],
      "metadata": {
        "id": "t7utW4in4azV",
        "colab_type": "text"
      }
    },
    {
      "cell_type": "code",
      "execution_count": null,
      "source": [
        "!git clone https://github.com/AlexeyAB/darknet"
      ],
      "outputs": [],
      "metadata": {
        "id": "e03U7Zi-qMr2",
        "colab_type": "code",
        "colab": {}
      }
    },
    {
      "cell_type": "markdown",
      "source": [
        "**2) Compile Darknet using Nvidia GPU**\n"
      ],
      "metadata": {
        "id": "7gDOF3mU-TAn",
        "colab_type": "text"
      }
    },
    {
      "cell_type": "code",
      "execution_count": null,
      "source": [
        "# change makefile to have GPU and OPENCV enabled\r\n",
        "%cd darknet\r\n",
        "!sed -i 's/OPENCV=0/OPENCV=1/' Makefile\r\n",
        "!sed -i 's/GPU=0/GPU=1/' Makefile\r\n",
        "!sed -i 's/CUDNN=0/CUDNN=1/' Makefile\r\n",
        "!make"
      ],
      "outputs": [],
      "metadata": {
        "id": "5H-Taj06Tw1c",
        "colab_type": "code",
        "colab": {}
      }
    },
    {
      "cell_type": "markdown",
      "source": [
        "**3) Configure Darknet network for training YOLO V3**"
      ],
      "metadata": {
        "id": "gAOLtA_qI9vF",
        "colab_type": "text"
      }
    },
    {
      "cell_type": "code",
      "execution_count": null,
      "source": [
        "!cp cfg/yolov3.cfg cfg/yolov3_training.cfg"
      ],
      "outputs": [],
      "metadata": {
        "id": "s-RpscgU853t",
        "colab_type": "code",
        "colab": {}
      }
    },
    {
      "cell_type": "code",
      "execution_count": null,
      "source": [
        "!sed -i 's/batch=1/batch=64/' cfg/yolov3_training.cfg\r\n",
        "!sed -i 's/subdivisions=1/subdivisions=16/' cfg/yolov3_training.cfg\r\n",
        "!sed -i 's/max_batches = 500200/max_batches = 4000/' cfg/yolov3_training.cfg\r\n",
        "!sed -i '610 s@classes=80@classes=1@' cfg/yolov3_training.cfg\r\n",
        "!sed -i '696 s@classes=80@classes=1@' cfg/yolov3_training.cfg\r\n",
        "!sed -i '783 s@classes=80@classes=1@' cfg/yolov3_training.cfg\r\n",
        "!sed -i '603 s@filters=255@filters=18@' cfg/yolov3_training.cfg\r\n",
        "!sed -i '689 s@filters=255@filters=18@' cfg/yolov3_training.cfg\r\n",
        "!sed -i '776 s@filters=255@filters=18@' cfg/yolov3_training.cfg"
      ],
      "outputs": [],
      "metadata": {
        "id": "5ZgVQRop_vwR",
        "colab_type": "code",
        "colab": {}
      }
    },
    {
      "cell_type": "code",
      "execution_count": null,
      "source": [
        "# Create folder on google drive so that we can save there the weights\r\n",
        "!mkdir \"/mydrive/yolov3\""
      ],
      "outputs": [],
      "metadata": {
        "id": "nscRN-X2Mr3d",
        "colab_type": "code",
        "colab": {}
      }
    },
    {
      "cell_type": "code",
      "execution_count": null,
      "source": [
        "!echo \"Pothole\" > data/obj.names\r\n",
        "!echo -e 'classes= 1\\ntrain  = data/train.txt\\nvalid  = data/test.txt\\nnames = data/obj.names\\nbackup = /mydrive/yolov3' > data/obj.data\r\n",
        "!mkdir data/obj"
      ],
      "outputs": [],
      "metadata": {
        "id": "7AIBw_psIclz",
        "colab_type": "code",
        "colab": {}
      }
    },
    {
      "cell_type": "code",
      "execution_count": null,
      "source": [
        "# Download weights darknet model 53\r\n",
        "!wget https://pjreddie.com/media/files/darknet53.conv.74"
      ],
      "outputs": [],
      "metadata": {
        "id": "eZlkzFMW7I_N",
        "colab_type": "code",
        "colab": {}
      }
    },
    {
      "cell_type": "markdown",
      "source": [
        "**4) Extract Images**\n",
        "\n",
        "The images need to be inside a zip archive called \"images.zip\" and they need to be inside the folder \"yolov3\" on Google Drive"
      ],
      "metadata": {
        "id": "9RbVKJjoncW2",
        "colab_type": "text"
      }
    },
    {
      "cell_type": "code",
      "execution_count": null,
      "source": [
        "!unzip /mydrive/yolov3/images.zip -d data/obj"
      ],
      "outputs": [],
      "metadata": {
        "id": "jhb5nZvsQ_96",
        "colab_type": "code",
        "colab": {}
      }
    },
    {
      "cell_type": "code",
      "execution_count": null,
      "source": [
        "# We're going to convert the class index on the .txt files. As we're working with only one class, it's supposed to be class 0.\n",
        "# If the index is different from 0 then we're going to change it.\n",
        "import glob\n",
        "import os\n",
        "import re\n",
        "\n",
        "txt_file_paths = glob.glob(r\"data/obj/*.txt\")\n",
        "for i, file_path in enumerate(txt_file_paths):\n",
        "    # get image size\n",
        "    with open(file_path, \"r\") as f_o:\n",
        "        lines = f_o.readlines()\n",
        "\n",
        "        text_converted = []\n",
        "        for line in lines:\n",
        "            print(line)\n",
        "            numbers = re.findall(\"[0-9.]+\", line)\n",
        "            print(numbers)\n",
        "            if numbers:\n",
        "\n",
        "                # Define coordinates\n",
        "                text = \"{} {} {} {} {}\".format(0, numbers[1], numbers[2], numbers[3], numbers[4])\n",
        "                text_converted.append(text)\n",
        "                print(i, file_path)\n",
        "                print(text)\n",
        "        # Write file\n",
        "        with open(file_path, 'w') as fp:\n",
        "            for item in text_converted:\n",
        "                fp.writelines(\"%s\\n\" % item)"
      ],
      "outputs": [],
      "metadata": {
        "id": "DGUyXxeYX0IP",
        "colab_type": "code",
        "colab": {}
      }
    },
    {
      "cell_type": "code",
      "execution_count": null,
      "source": [
        "import glob\n",
        "images_list = glob.glob(\"data/obj/*.jpg\")\n",
        "print(images_list)"
      ],
      "outputs": [],
      "metadata": {
        "id": "5I_0ht7ITMUu",
        "colab_type": "code",
        "colab": {}
      }
    },
    {
      "cell_type": "code",
      "execution_count": null,
      "source": [
        "#Create training.txt file\n",
        "file = open(\"data/train.txt\", \"w\") \n",
        "file.write(\"\\n\".join(images_list)) \n",
        "file.close() "
      ],
      "outputs": [],
      "metadata": {
        "id": "EzygoAtMSnon",
        "colab_type": "code",
        "colab": {}
      }
    },
    {
      "cell_type": "markdown",
      "source": [
        "**6) Start the training**"
      ],
      "metadata": {
        "id": "CeSiuLrXoAjc",
        "colab_type": "text"
      }
    },
    {
      "cell_type": "code",
      "execution_count": null,
      "source": [
        "# Start the training\n",
        "!./darknet detector train data/obj.data cfg/yolov3_training.cfg darknet53.conv.74 -dont_show"
      ],
      "outputs": [],
      "metadata": {
        "id": "S3_g3jclUzMm",
        "colab_type": "code",
        "colab": {}
      }
    }
  ]
}